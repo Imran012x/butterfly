{
  "cells": [
    {
      "cell_type": "markdown",
      "metadata": {
        "id": "view-in-github",
        "colab_type": "text"
      },
      "source": [
        "<a href=\"https://colab.research.google.com/github/Imran012x/butterfly/blob/main/1_CNN%2Btransfer_models.ipynb\" target=\"_parent\"><img src=\"https://colab.research.google.com/assets/colab-badge.svg\" alt=\"Open In Colab\"/></a>"
      ]
    },
    {
      "cell_type": "code",
      "source": [
        "from google.colab import drive\n",
        "drive.mount('/content/drive')"
      ],
      "metadata": {
        "colab": {
          "base_uri": "https://localhost:8080/"
        },
        "id": "F4BwdVPzmlCr",
        "outputId": "7829d724-318e-4923-e371-47229493e3ac"
      },
      "execution_count": 1,
      "outputs": [
        {
          "output_type": "stream",
          "name": "stdout",
          "text": [
            "Mounted at /content/drive\n"
          ]
        }
      ]
    },
    {
      "cell_type": "code",
      "source": [
        "# from google.colab import files\n",
        "\n",
        "# # Upload a file\n",
        "# uploaded = files.upload()\n",
        "\n",
        "# # Get the file name\n",
        "# file_name = list(uploaded.keys())[0]\n",
        "# print(f\"Uploaded file: {file_name}\")\n"
      ],
      "metadata": {
        "id": "SncZVye3Jp3a"
      },
      "execution_count": 32,
      "outputs": []
    },
    {
      "cell_type": "code",
      "source": [
        "import zipfile\n",
        "import os\n",
        "\n",
        "\n",
        "with zipfile.ZipFile('/content/drive/MyDrive/data_raw.zip', 'r') as zip_ref:\n",
        "    zip_ref.extractall('')\n"
      ],
      "metadata": {
        "id": "JP345hvS1nk1"
      },
      "execution_count": 2,
      "outputs": []
    },
    {
      "cell_type": "code",
      "source": [
        "import os\n",
        "import numpy as np\n",
        "import matplotlib.pyplot as plt\n",
        "import matplotlib.image as mpimg\n",
        "import cv2\n",
        "from PIL import Image\n",
        "from sklearn.model_selection import train_test_split"
      ],
      "metadata": {
        "id": "keXKd25Inyvb"
      },
      "execution_count": 3,
      "outputs": []
    },
    {
      "cell_type": "code",
      "source": [
        "common_pic= os.listdir('/content/common/')\n",
        "print(common_pic[0:5])\n",
        "print(common_pic[-5:])\n",
        "painted_pic= os.listdir('/content/painted/')\n",
        "red_based_pic= os.listdir('/content/red_based/')\n",
        "red_spot_pic= os.listdir('/content/red_spot/')"
      ],
      "metadata": {
        "colab": {
          "base_uri": "https://localhost:8080/"
        },
        "id": "rMyf2SoU2C0T",
        "outputId": "cd7c02b5-3fe6-477f-d943-6a47d1e8ddc3"
      },
      "execution_count": 4,
      "outputs": [
        {
          "output_type": "stream",
          "name": "stdout",
          "text": [
            "['medium77.jpg', '13601_small.JPG.jpg', 'Delias20eucharis_1711145084_268153.jpg', 'square18.jpg', 'medium90.jpeg']\n",
            "['medium202.jpeg', 'medium20.jpg', 'medium187.jpeg', 'medium167.jpeg', 'medium337.jpeg']\n"
          ]
        }
      ]
    },
    {
      "cell_type": "code",
      "source": [
        "print('Common  Jezebel_Delias eucharis images:', len(common_pic))\n",
        "print('Painted Jezebel_Delias hyparete images:', len(painted_pic))\n",
        "print('Red-Based  Jezebel_Delias pasithoe images:', len(red_based_pic))\n",
        "print('Red-Spot Jezebel_Delias descombesi images:', len(red_spot_pic))"
      ],
      "metadata": {
        "colab": {
          "base_uri": "https://localhost:8080/"
        },
        "id": "cU6TyDxt2Hp2",
        "outputId": "9c9e7a13-8f79-4373-f0b9-96078d3af4a6"
      },
      "execution_count": 6,
      "outputs": [
        {
          "output_type": "stream",
          "name": "stdout",
          "text": [
            "Common  Jezebel_Delias eucharis images: 375\n",
            "Painted Jezebel_Delias hyparete images: 461\n",
            "Red-Based  Jezebel_Delias pasithoe images: 718\n",
            "Red-Spot Jezebel_Delias descombesi images: 484\n"
          ]
        }
      ]
    },
    {
      "cell_type": "code",
      "source": [
        "common_pic_labels = [0]*len(common_pic)\n",
        "painted_pic_labels = [1]*len(painted_pic)\n",
        "red_based_pic_labels = [2]*len(red_based_pic)\n",
        "red_spot_pic_labels = [3]*len(red_spot_pic)\n",
        "\n",
        "\n",
        "print(common_pic_labels[0:5])\n",
        "\n",
        "print(painted_pic_labels[0:5])\n",
        "\n",
        "print(red_based_pic_labels[0:5])\n",
        "\n",
        "print(red_spot_pic_labels[0:5])\n"
      ],
      "metadata": {
        "colab": {
          "base_uri": "https://localhost:8080/"
        },
        "id": "50rePefD2Km6",
        "outputId": "f4469ce6-f5a3-4b6f-9159-8a5f9ef82d20"
      },
      "execution_count": 7,
      "outputs": [
        {
          "output_type": "stream",
          "name": "stdout",
          "text": [
            "[0, 0, 0, 0, 0]\n",
            "[1, 1, 1, 1, 1]\n",
            "[2, 2, 2, 2, 2]\n",
            "[3, 3, 3, 3, 3]\n"
          ]
        }
      ]
    },
    {
      "cell_type": "code",
      "source": [
        "labels = common_pic_labels + painted_pic_labels + red_based_pic_labels + red_spot_pic_labels\n",
        "\n",
        "print(len(labels))\n",
        "print(labels[0:5])\n",
        "print(labels[-5:])"
      ],
      "metadata": {
        "colab": {
          "base_uri": "https://localhost:8080/"
        },
        "id": "iwYTot_v1QTw",
        "outputId": "f28f3822-d7cf-4bf7-d020-1494d7a109ea"
      },
      "execution_count": 9,
      "outputs": [
        {
          "output_type": "stream",
          "name": "stdout",
          "text": [
            "2038\n",
            "[0, 0, 0, 0, 0]\n",
            "[3, 3, 3, 3, 3]\n"
          ]
        }
      ]
    },
    {
      "cell_type": "code",
      "source": [
        "import random\n",
        "import os\n",
        "from PIL import Image\n",
        "import numpy as np\n",
        "\n",
        "# Parameters (set different numbers for each class)\n",
        "common_image_number = 4000\n",
        "painted_image_number = 4000\n",
        "red_based_image_number = 4000\n",
        "red_spot_image_number = 4000\n",
        "\n",
        "\n",
        "# Initialize the list to store the images\n",
        "data = []\n",
        "\n",
        "def process_images(image_path, image_number):\n",
        "    image_labels = sorted(os.listdir(image_path))  # Ensure images are in order\n",
        "    random.shuffle(image_labels)  # Shuffle to get random ones\n",
        "    selected_images = []\n",
        "    for img_file in image_labels[:image_number]:\n",
        "        image = Image.open(os.path.join(image_path, img_file))\n",
        "        image = image.resize((224, 224))\n",
        "        image = image.convert('RGB')\n",
        "        image = np.array(image)\n",
        "        selected_images.append(image)\n",
        "    return selected_images\n",
        "\n",
        "# Process images for each category\n",
        "data.extend(process_images('/content/common/', common_image_number))\n",
        "data.extend(process_images('/content/painted/', painted_image_number))\n",
        "data.extend(process_images('/content/red_based/', red_based_image_number))\n",
        "data.extend(process_images('/content/red_spot/', red_spot_image_number))"
      ],
      "metadata": {
        "id": "6gu2Bfj02ht1"
      },
      "execution_count": 41,
      "outputs": []
    },
    {
      "cell_type": "code",
      "source": [
        "# Convert labels to numpy array for easy processing\n",
        "labels = np.array(labels)\n",
        "\n",
        "# Count the number of images in each class\n",
        "unique, counts = np.unique(labels, return_counts=True)\n",
        "\n",
        "# Print the number of images for each class\n",
        "class_counts = dict(zip(unique, counts))\n",
        "print(f\"Class counts: {class_counts}\")\n",
        "# converting image list and label list to numpy arrays\n",
        "\n",
        "X = np.array(data)\n",
        "Y = np.array(labels)\n",
        "print(X.shape)\n",
        "print(Y.shape)\n",
        "\n"
      ],
      "metadata": {
        "colab": {
          "base_uri": "https://localhost:8080/"
        },
        "id": "FyNKmCny1UYk",
        "outputId": "ba50ae4a-df13-4ef8-82ac-c40c4473786c"
      },
      "execution_count": 42,
      "outputs": [
        {
          "output_type": "stream",
          "name": "stdout",
          "text": [
            "Class counts: {0: 4000, 1: 4000, 2: 4000, 3: 4000}\n",
            "(16000, 224, 224, 3)\n",
            "(16000,)\n"
          ]
        }
      ]
    },
    {
      "cell_type": "code",
      "source": [
        "X_train, X_test, Y_train, Y_test = train_test_split(X, Y, test_size=0.2, random_state=2)\n",
        "print(X.shape, X_train.shape, X_test.shape)\n",
        "# scaling the data\n",
        "\n",
        "X_train_scaled = X_train/255\n",
        "\n",
        "X_test_scaled = X_test/255\n",
        "\n",
        "X_train[0]"
      ],
      "metadata": {
        "colab": {
          "base_uri": "https://localhost:8080/",
          "height": 282
        },
        "id": "a_Auo6ip2l_g",
        "outputId": "e2fae26d-d495-40a8-ad5d-e931247be458"
      },
      "execution_count": 43,
      "outputs": [
        {
          "output_type": "stream",
          "name": "stdout",
          "text": [
            "(16000, 224, 224, 3) (12800, 224, 224, 3) (3200, 224, 224, 3)\n"
          ]
        },
        {
          "output_type": "execute_result",
          "data": {
            "text/plain": [
              "array([[[195, 210, 216],\n",
              "        [194, 209, 216],\n",
              "        [192, 207, 214],\n",
              "        ...,\n",
              "        [198, 211, 216],\n",
              "        [197, 212, 217],\n",
              "        [197, 210, 216]],\n",
              "\n",
              "       [[195, 210, 215],\n",
              "        [193, 208, 215],\n",
              "        [192, 207, 214],\n",
              "        ...,\n",
              "        [197, 212, 217],\n",
              "        [196, 211, 216],\n",
              "        [196, 211, 216]],\n",
              "\n",
              "       [[195, 210, 215],\n",
              "        [195, 210, 217],\n",
              "        [191, 206, 214],\n",
              "        ...,\n",
              "        [195, 210, 215],\n",
              "        [194, 207, 213],\n",
              "        [195, 210, 215]],\n",
              "\n",
              "       ...,\n",
              "\n",
              "       [[ 58, 125, 167],\n",
              "        [ 58, 125, 168],\n",
              "        [ 59, 127, 169],\n",
              "        ...,\n",
              "        [ 54, 114, 150],\n",
              "        [ 56, 116, 152],\n",
              "        [ 55, 115, 151]],\n",
              "\n",
              "       [[ 56, 124, 169],\n",
              "        [ 56, 123, 166],\n",
              "        [ 56, 124, 167],\n",
              "        ...,\n",
              "        [ 52, 112, 148],\n",
              "        [ 51, 114, 149],\n",
              "        [ 52, 113, 149]],\n",
              "\n",
              "       [[ 58, 125, 168],\n",
              "        [ 59, 123, 168],\n",
              "        [ 57, 123, 166],\n",
              "        ...,\n",
              "        [ 51, 111, 147],\n",
              "        [ 48, 112, 147],\n",
              "        [ 51, 112, 148]]], dtype=uint8)"
            ],
            "text/html": [
              "<style>\n",
              "      .ndarray_repr .ndarray_raw_data {\n",
              "        display: none;\n",
              "      }\n",
              "      .ndarray_repr.show_array .ndarray_raw_data {\n",
              "        display: block;\n",
              "      }\n",
              "      .ndarray_repr.show_array .ndarray_image_preview {\n",
              "        display: none;\n",
              "      }\n",
              "      </style>\n",
              "      <div id=\"id-fe7dfae2-65a4-4f04-9a93-9b59c84a5baa\" class=\"ndarray_repr\"><pre>ndarray (224, 224, 3) <button style=\"padding: 0 2px;\">show data</button></pre><img src=\"data:image/png;base64,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\" class=\"ndarray_image_preview\" /><pre class=\"ndarray_raw_data\">array([[[195, 210, 216],\n",
              "        [194, 209, 216],\n",
              "        [192, 207, 214],\n",
              "        ...,\n",
              "        [198, 211, 216],\n",
              "        [197, 212, 217],\n",
              "        [197, 210, 216]],\n",
              "\n",
              "       [[195, 210, 215],\n",
              "        [193, 208, 215],\n",
              "        [192, 207, 214],\n",
              "        ...,\n",
              "        [197, 212, 217],\n",
              "        [196, 211, 216],\n",
              "        [196, 211, 216]],\n",
              "\n",
              "       [[195, 210, 215],\n",
              "        [195, 210, 217],\n",
              "        [191, 206, 214],\n",
              "        ...,\n",
              "        [195, 210, 215],\n",
              "        [194, 207, 213],\n",
              "        [195, 210, 215]],\n",
              "\n",
              "       ...,\n",
              "\n",
              "       [[ 58, 125, 167],\n",
              "        [ 58, 125, 168],\n",
              "        [ 59, 127, 169],\n",
              "        ...,\n",
              "        [ 54, 114, 150],\n",
              "        [ 56, 116, 152],\n",
              "        [ 55, 115, 151]],\n",
              "\n",
              "       [[ 56, 124, 169],\n",
              "        [ 56, 123, 166],\n",
              "        [ 56, 124, 167],\n",
              "        ...,\n",
              "        [ 52, 112, 148],\n",
              "        [ 51, 114, 149],\n",
              "        [ 52, 113, 149]],\n",
              "\n",
              "       [[ 58, 125, 168],\n",
              "        [ 59, 123, 168],\n",
              "        [ 57, 123, 166],\n",
              "        ...,\n",
              "        [ 51, 111, 147],\n",
              "        [ 48, 112, 147],\n",
              "        [ 51, 112, 148]]], dtype=uint8)</pre></div><script>\n",
              "      (() => {\n",
              "      const titles = ['show data', 'hide data'];\n",
              "      let index = 0\n",
              "      document.querySelector('#id-fe7dfae2-65a4-4f04-9a93-9b59c84a5baa button').onclick = (e) => {\n",
              "        document.querySelector('#id-fe7dfae2-65a4-4f04-9a93-9b59c84a5baa').classList.toggle('show_array');\n",
              "        index = (++index) % 2;\n",
              "        document.querySelector('#id-fe7dfae2-65a4-4f04-9a93-9b59c84a5baa button').textContent = titles[index];\n",
              "        e.preventDefault();\n",
              "        e.stopPropagation();\n",
              "      }\n",
              "      })();\n",
              "    </script>"
            ]
          },
          "metadata": {},
          "execution_count": 43
        }
      ]
    },
    {
      "cell_type": "markdown",
      "source": [
        "#Optuna-Hyper parameter Training"
      ],
      "metadata": {
        "id": "C4tpEFOX5BBr"
      }
    },
    {
      "cell_type": "code",
      "source": [
        "# !pip install optuna\n",
        "# import optuna\n",
        "# import numpy as np\n",
        "# import matplotlib.pyplot as plt\n",
        "# import tensorflow as tf\n",
        "# from tensorflow.keras.applications import ResNet50\n",
        "# from tensorflow.keras.models import Model\n",
        "# from tensorflow.keras.layers import Dense, Flatten, Conv2D, MaxPooling2D, GlobalAveragePooling2D\n",
        "# from tensorflow.keras.optimizers import RMSprop\n",
        "# from sklearn.metrics import roc_curve, auc, precision_recall_curve, confusion_matrix, accuracy_score, f1_score\n",
        "# import seaborn as sns\n",
        "\n",
        "# # Define model creation function\n",
        "# def create_model(learning_rate, num_filters, kernel_size):\n",
        "#     input_shape = (224, 224, 3)\n",
        "#     base_model = ResNet50(weights='imagenet', include_top=False, input_shape=input_shape)\n",
        "\n",
        "#     x = base_model.output\n",
        "#     x = Conv2D(num_filters, (kernel_size, kernel_size), activation='relu', padding='same')(x)\n",
        "#     x = MaxPooling2D((2, 2))(x)\n",
        "#     x = Conv2D(num_filters * 2, (kernel_size, kernel_size), activation='relu', padding='same')(x)\n",
        "#     x = MaxPooling2D((2, 2))(x)\n",
        "#     x = GlobalAveragePooling2D()(x)\n",
        "#     x = Dense(256, activation='relu')(x)\n",
        "#     output = Dense(4, activation='softmax')(x)\n",
        "\n",
        "#     model = Model(inputs=base_model.input, outputs=output)\n",
        "\n",
        "#     for layer in base_model.layers:\n",
        "#         layer.trainable = False\n",
        "\n",
        "#     model.compile(optimizer=RMSprop(learning_rate=learning_rate),\n",
        "#                   loss='sparse_categorical_crossentropy',\n",
        "#                   metrics=['accuracy'])\n",
        "#     return model\n",
        "\n",
        "# # Define Optuna objective function\n",
        "# def objective(trial):\n",
        "#     learning_rate = trial.suggest_loguniform('learning_rate', 1e-5, 1e-1)\n",
        "#     num_filters = trial.suggest_int('num_filters', 16, 128)\n",
        "#     kernel_size = trial.suggest_categorical('kernel_size', [3, 7])\n",
        "\n",
        "#     model = create_model(learning_rate, num_filters, kernel_size)\n",
        "#     model.fit(X_train_scaled, Y_train, epochs=8, validation_data=(X_test_scaled, Y_test), verbose=0)\n",
        "#     score = model.evaluate(X_test_scaled, Y_test, verbose=0)\n",
        "#     return score[1]\n",
        "\n",
        "# # Run Optuna study\n",
        "# study = optuna.create_study(direction='maximize')\n",
        "# study.optimize(objective, n_trials=30)\n",
        "\n",
        "# # Get best parameters\n",
        "# best_params = study.best_params\n",
        "# print(\"Best hyperparameters: \", best_params)\n",
        "\n",
        "# # Train final model with best parameters\n",
        "# model = create_model(best_params['learning_rate'], best_params['num_filters'], best_params['kernel_size'])\n",
        "# history = model.fit(X_train_scaled, Y_train,\n",
        "#                     validation_split=0.2,\n",
        "#                     epochs=10, batch_size=32, verbose=1)\n",
        "\n",
        "# # Evaluate model\n",
        "# val_loss, val_accuracy = model.evaluate(X_test_scaled, Y_test, verbose=0)\n",
        "# print(f\"Validation Accuracy: {val_accuracy:.4f}\")\n"
      ],
      "metadata": {
        "id": "NDybI1TUDb7c"
      },
      "execution_count": 44,
      "outputs": []
    },
    {
      "cell_type": "markdown",
      "source": [
        "#ResNet50"
      ],
      "metadata": {
        "id": "Xd7lGcEo2sAI"
      }
    },
    {
      "cell_type": "code",
      "execution_count": 45,
      "metadata": {
        "id": "Jul18GhIy8YC",
        "colab": {
          "base_uri": "https://localhost:8080/",
          "height": 1000
        },
        "outputId": "8a144f37-39a0-4e73-b400-3d9a3f1c050f"
      },
      "outputs": [
        {
          "output_type": "stream",
          "name": "stdout",
          "text": [
            "Epoch 1/100\n"
          ]
        },
        {
          "output_type": "error",
          "ename": "NotFoundError",
          "evalue": "Graph execution error:\n\nDetected at node StatefulPartitionedCall defined at (most recent call last):\n  File \"<frozen runpy>\", line 198, in _run_module_as_main\n\n  File \"<frozen runpy>\", line 88, in _run_code\n\n  File \"/usr/local/lib/python3.11/dist-packages/colab_kernel_launcher.py\", line 37, in <module>\n\n  File \"/usr/local/lib/python3.11/dist-packages/traitlets/config/application.py\", line 992, in launch_instance\n\n  File \"/usr/local/lib/python3.11/dist-packages/ipykernel/kernelapp.py\", line 619, in start\n\n  File \"/usr/local/lib/python3.11/dist-packages/tornado/platform/asyncio.py\", line 205, in start\n\n  File \"/usr/lib/python3.11/asyncio/base_events.py\", line 608, in run_forever\n\n  File \"/usr/lib/python3.11/asyncio/base_events.py\", line 1936, in _run_once\n\n  File \"/usr/lib/python3.11/asyncio/events.py\", line 84, in _run\n\n  File \"/usr/local/lib/python3.11/dist-packages/tornado/ioloop.py\", line 699, in <lambda>\n\n  File \"/usr/local/lib/python3.11/dist-packages/tornado/ioloop.py\", line 750, in _run_callback\n\n  File \"/usr/local/lib/python3.11/dist-packages/tornado/gen.py\", line 824, in inner\n\n  File \"/usr/local/lib/python3.11/dist-packages/tornado/gen.py\", line 785, in run\n\n  File \"/usr/local/lib/python3.11/dist-packages/ipykernel/kernelbase.py\", line 377, in dispatch_queue\n\n  File \"/usr/local/lib/python3.11/dist-packages/tornado/gen.py\", line 249, in wrapper\n\n  File \"/usr/local/lib/python3.11/dist-packages/tornado/gen.py\", line 747, in __init__\n\n  File \"/usr/local/lib/python3.11/dist-packages/tornado/gen.py\", line 785, in run\n\n  File \"/usr/local/lib/python3.11/dist-packages/ipykernel/kernelbase.py\", line 361, in process_one\n\n  File \"/usr/local/lib/python3.11/dist-packages/tornado/gen.py\", line 233, in wrapper\n\n  File \"/usr/local/lib/python3.11/dist-packages/ipykernel/kernelbase.py\", line 261, in dispatch_shell\n\n  File \"/usr/local/lib/python3.11/dist-packages/tornado/gen.py\", line 233, in wrapper\n\n  File \"/usr/local/lib/python3.11/dist-packages/ipykernel/kernelbase.py\", line 539, in execute_request\n\n  File \"/usr/local/lib/python3.11/dist-packages/tornado/gen.py\", line 233, in wrapper\n\n  File \"/usr/local/lib/python3.11/dist-packages/ipykernel/ipkernel.py\", line 302, in do_execute\n\n  File \"/usr/local/lib/python3.11/dist-packages/ipykernel/zmqshell.py\", line 539, in run_cell\n\n  File \"/usr/local/lib/python3.11/dist-packages/IPython/core/interactiveshell.py\", line 2975, in run_cell\n\n  File \"/usr/local/lib/python3.11/dist-packages/IPython/core/interactiveshell.py\", line 3030, in _run_cell\n\n  File \"/usr/local/lib/python3.11/dist-packages/IPython/core/async_helpers.py\", line 78, in _pseudo_sync_runner\n\n  File \"/usr/local/lib/python3.11/dist-packages/IPython/core/interactiveshell.py\", line 3257, in run_cell_async\n\n  File \"/usr/local/lib/python3.11/dist-packages/IPython/core/interactiveshell.py\", line 3473, in run_ast_nodes\n\n  File \"/usr/local/lib/python3.11/dist-packages/IPython/core/interactiveshell.py\", line 3553, in run_code\n\n  File \"<ipython-input-45-da17e12612ea>\", line 37, in <cell line: 0>\n\n  File \"/usr/local/lib/python3.11/dist-packages/keras/src/utils/traceback_utils.py\", line 117, in error_handler\n\n  File \"/usr/local/lib/python3.11/dist-packages/keras/src/backend/tensorflow/trainer.py\", line 371, in fit\n\n  File \"/usr/local/lib/python3.11/dist-packages/keras/src/backend/tensorflow/trainer.py\", line 219, in function\n\n  File \"/usr/local/lib/python3.11/dist-packages/keras/src/backend/tensorflow/trainer.py\", line 132, in multi_step_on_iterator\n\ncould not find registered transfer manager for platform Host -- check target linkage\n\t [[{{node StatefulPartitionedCall}}]] [Op:__inference_multi_step_on_iterator_34020]",
          "traceback": [
            "\u001b[0;31m---------------------------------------------------------------------------\u001b[0m",
            "\u001b[0;31mNotFoundError\u001b[0m                             Traceback (most recent call last)",
            "\u001b[0;32m<ipython-input-45-da17e12612ea>\u001b[0m in \u001b[0;36m<cell line: 0>\u001b[0;34m()\u001b[0m\n\u001b[1;32m     35\u001b[0m \u001b[0;34m\u001b[0m\u001b[0m\n\u001b[1;32m     36\u001b[0m \u001b[0;31m# Train model\u001b[0m\u001b[0;34m\u001b[0m\u001b[0;34m\u001b[0m\u001b[0m\n\u001b[0;32m---> 37\u001b[0;31m history = model.fit(X_train_scaled, Y_train,\n\u001b[0m\u001b[1;32m     38\u001b[0m                     \u001b[0mvalidation_split\u001b[0m\u001b[0;34m=\u001b[0m\u001b[0;36m0.2\u001b[0m\u001b[0;34m,\u001b[0m\u001b[0;34m\u001b[0m\u001b[0;34m\u001b[0m\u001b[0m\n\u001b[1;32m     39\u001b[0m                     epochs=100, batch_size=32, verbose=1)\n",
            "\u001b[0;32m/usr/local/lib/python3.11/dist-packages/keras/src/utils/traceback_utils.py\u001b[0m in \u001b[0;36merror_handler\u001b[0;34m(*args, **kwargs)\u001b[0m\n\u001b[1;32m    120\u001b[0m             \u001b[0;31m# To get the full stack trace, call:\u001b[0m\u001b[0;34m\u001b[0m\u001b[0;34m\u001b[0m\u001b[0m\n\u001b[1;32m    121\u001b[0m             \u001b[0;31m# `keras.config.disable_traceback_filtering()`\u001b[0m\u001b[0;34m\u001b[0m\u001b[0;34m\u001b[0m\u001b[0m\n\u001b[0;32m--> 122\u001b[0;31m             \u001b[0;32mraise\u001b[0m \u001b[0me\u001b[0m\u001b[0;34m.\u001b[0m\u001b[0mwith_traceback\u001b[0m\u001b[0;34m(\u001b[0m\u001b[0mfiltered_tb\u001b[0m\u001b[0;34m)\u001b[0m \u001b[0;32mfrom\u001b[0m \u001b[0;32mNone\u001b[0m\u001b[0;34m\u001b[0m\u001b[0;34m\u001b[0m\u001b[0m\n\u001b[0m\u001b[1;32m    123\u001b[0m         \u001b[0;32mfinally\u001b[0m\u001b[0;34m:\u001b[0m\u001b[0;34m\u001b[0m\u001b[0;34m\u001b[0m\u001b[0m\n\u001b[1;32m    124\u001b[0m             \u001b[0;32mdel\u001b[0m \u001b[0mfiltered_tb\u001b[0m\u001b[0;34m\u001b[0m\u001b[0;34m\u001b[0m\u001b[0m\n",
            "\u001b[0;32m/usr/local/lib/python3.11/dist-packages/tensorflow/python/eager/execute.py\u001b[0m in \u001b[0;36mquick_execute\u001b[0;34m(op_name, num_outputs, inputs, attrs, ctx, name)\u001b[0m\n\u001b[1;32m     57\u001b[0m       \u001b[0me\u001b[0m\u001b[0;34m.\u001b[0m\u001b[0mmessage\u001b[0m \u001b[0;34m+=\u001b[0m \u001b[0;34m\" name: \"\u001b[0m \u001b[0;34m+\u001b[0m \u001b[0mname\u001b[0m\u001b[0;34m\u001b[0m\u001b[0;34m\u001b[0m\u001b[0m\n\u001b[1;32m     58\u001b[0m     \u001b[0;32mraise\u001b[0m \u001b[0mcore\u001b[0m\u001b[0;34m.\u001b[0m\u001b[0m_status_to_exception\u001b[0m\u001b[0;34m(\u001b[0m\u001b[0me\u001b[0m\u001b[0;34m)\u001b[0m \u001b[0;32mfrom\u001b[0m \u001b[0;32mNone\u001b[0m\u001b[0;34m\u001b[0m\u001b[0;34m\u001b[0m\u001b[0m\n\u001b[0;32m---> 59\u001b[0;31m   \u001b[0;32mexcept\u001b[0m \u001b[0mTypeError\u001b[0m \u001b[0;32mas\u001b[0m \u001b[0me\u001b[0m\u001b[0;34m:\u001b[0m\u001b[0;34m\u001b[0m\u001b[0;34m\u001b[0m\u001b[0m\n\u001b[0m\u001b[1;32m     60\u001b[0m     \u001b[0mkeras_symbolic_tensors\u001b[0m \u001b[0;34m=\u001b[0m \u001b[0;34m[\u001b[0m\u001b[0mx\u001b[0m \u001b[0;32mfor\u001b[0m \u001b[0mx\u001b[0m \u001b[0;32min\u001b[0m \u001b[0minputs\u001b[0m \u001b[0;32mif\u001b[0m \u001b[0m_is_keras_symbolic_tensor\u001b[0m\u001b[0;34m(\u001b[0m\u001b[0mx\u001b[0m\u001b[0;34m)\u001b[0m\u001b[0;34m]\u001b[0m\u001b[0;34m\u001b[0m\u001b[0;34m\u001b[0m\u001b[0m\n\u001b[1;32m     61\u001b[0m     \u001b[0;32mif\u001b[0m \u001b[0mkeras_symbolic_tensors\u001b[0m\u001b[0;34m:\u001b[0m\u001b[0;34m\u001b[0m\u001b[0;34m\u001b[0m\u001b[0m\n",
            "\u001b[0;31mNotFoundError\u001b[0m: Graph execution error:\n\nDetected at node StatefulPartitionedCall defined at (most recent call last):\n  File \"<frozen runpy>\", line 198, in _run_module_as_main\n\n  File \"<frozen runpy>\", line 88, in _run_code\n\n  File \"/usr/local/lib/python3.11/dist-packages/colab_kernel_launcher.py\", line 37, in <module>\n\n  File \"/usr/local/lib/python3.11/dist-packages/traitlets/config/application.py\", line 992, in launch_instance\n\n  File \"/usr/local/lib/python3.11/dist-packages/ipykernel/kernelapp.py\", line 619, in start\n\n  File \"/usr/local/lib/python3.11/dist-packages/tornado/platform/asyncio.py\", line 205, in start\n\n  File \"/usr/lib/python3.11/asyncio/base_events.py\", line 608, in run_forever\n\n  File \"/usr/lib/python3.11/asyncio/base_events.py\", line 1936, in _run_once\n\n  File \"/usr/lib/python3.11/asyncio/events.py\", line 84, in _run\n\n  File \"/usr/local/lib/python3.11/dist-packages/tornado/ioloop.py\", line 699, in <lambda>\n\n  File \"/usr/local/lib/python3.11/dist-packages/tornado/ioloop.py\", line 750, in _run_callback\n\n  File \"/usr/local/lib/python3.11/dist-packages/tornado/gen.py\", line 824, in inner\n\n  File \"/usr/local/lib/python3.11/dist-packages/tornado/gen.py\", line 785, in run\n\n  File \"/usr/local/lib/python3.11/dist-packages/ipykernel/kernelbase.py\", line 377, in dispatch_queue\n\n  File \"/usr/local/lib/python3.11/dist-packages/tornado/gen.py\", line 249, in wrapper\n\n  File \"/usr/local/lib/python3.11/dist-packages/tornado/gen.py\", line 747, in __init__\n\n  File \"/usr/local/lib/python3.11/dist-packages/tornado/gen.py\", line 785, in run\n\n  File \"/usr/local/lib/python3.11/dist-packages/ipykernel/kernelbase.py\", line 361, in process_one\n\n  File \"/usr/local/lib/python3.11/dist-packages/tornado/gen.py\", line 233, in wrapper\n\n  File \"/usr/local/lib/python3.11/dist-packages/ipykernel/kernelbase.py\", line 261, in dispatch_shell\n\n  File \"/usr/local/lib/python3.11/dist-packages/tornado/gen.py\", line 233, in wrapper\n\n  File \"/usr/local/lib/python3.11/dist-packages/ipykernel/kernelbase.py\", line 539, in execute_request\n\n  File \"/usr/local/lib/python3.11/dist-packages/tornado/gen.py\", line 233, in wrapper\n\n  File \"/usr/local/lib/python3.11/dist-packages/ipykernel/ipkernel.py\", line 302, in do_execute\n\n  File \"/usr/local/lib/python3.11/dist-packages/ipykernel/zmqshell.py\", line 539, in run_cell\n\n  File \"/usr/local/lib/python3.11/dist-packages/IPython/core/interactiveshell.py\", line 2975, in run_cell\n\n  File \"/usr/local/lib/python3.11/dist-packages/IPython/core/interactiveshell.py\", line 3030, in _run_cell\n\n  File \"/usr/local/lib/python3.11/dist-packages/IPython/core/async_helpers.py\", line 78, in _pseudo_sync_runner\n\n  File \"/usr/local/lib/python3.11/dist-packages/IPython/core/interactiveshell.py\", line 3257, in run_cell_async\n\n  File \"/usr/local/lib/python3.11/dist-packages/IPython/core/interactiveshell.py\", line 3473, in run_ast_nodes\n\n  File \"/usr/local/lib/python3.11/dist-packages/IPython/core/interactiveshell.py\", line 3553, in run_code\n\n  File \"<ipython-input-45-da17e12612ea>\", line 37, in <cell line: 0>\n\n  File \"/usr/local/lib/python3.11/dist-packages/keras/src/utils/traceback_utils.py\", line 117, in error_handler\n\n  File \"/usr/local/lib/python3.11/dist-packages/keras/src/backend/tensorflow/trainer.py\", line 371, in fit\n\n  File \"/usr/local/lib/python3.11/dist-packages/keras/src/backend/tensorflow/trainer.py\", line 219, in function\n\n  File \"/usr/local/lib/python3.11/dist-packages/keras/src/backend/tensorflow/trainer.py\", line 132, in multi_step_on_iterator\n\ncould not find registered transfer manager for platform Host -- check target linkage\n\t [[{{node StatefulPartitionedCall}}]] [Op:__inference_multi_step_on_iterator_34020]"
          ]
        }
      ],
      "source": [
        "import numpy as np\n",
        "import matplotlib.pyplot as plt\n",
        "import tensorflow as tf\n",
        "from tensorflow.keras.applications import ResNet50\n",
        "from tensorflow.keras.models import Model\n",
        "from tensorflow.keras.layers import Dense, Flatten, Conv2D, MaxPooling2D, GlobalAveragePooling2D\n",
        "from tensorflow.keras.optimizers import RMSprop\n",
        "from sklearn.metrics import roc_curve, auc, precision_recall_curve, confusion_matrix, accuracy_score, f1_score\n",
        "import seaborn as sns\n",
        "\n",
        "# Initialize the ResNet model with transfer learning\n",
        "input_shape = (224, 224, 3)\n",
        "base_model = ResNet50(weights='imagenet', include_top=False, input_shape=input_shape)\n",
        "\n",
        "# Add custom CNN layers\n",
        "x = base_model.output\n",
        "x = Conv2D(32, (3, 3), activation='relu', padding='same')(x)\n",
        "x = MaxPooling2D((2, 2))(x)\n",
        "x = Conv2D(64, (3, 3), activation='relu', padding='same')(x)\n",
        "x = MaxPooling2D((2, 2))(x)\n",
        "x = GlobalAveragePooling2D()(x)\n",
        "x = Dense(256, activation='relu')(x)\n",
        "output = Dense(4, activation='softmax')(x)\n",
        "\n",
        "model = Model(inputs=base_model.input, outputs=output)\n",
        "\n",
        "# Freeze base model layers\n",
        "for layer in base_model.layers:\n",
        "    layer.trainable = False\n",
        "\n",
        "# Compile model\n",
        "model.compile(optimizer=RMSprop(learning_rate=0.0001),\n",
        "              loss='sparse_categorical_crossentropy',\n",
        "              metrics=['accuracy'])\n",
        "\n",
        "# Train model\n",
        "history = model.fit(X_train_scaled, Y_train,\n",
        "                    validation_split=0.2,\n",
        "                    epochs=100, batch_size=32, verbose=1)\n",
        "\n",
        "# Evaluate model\n",
        "val_loss, val_accuracy = model.evaluate(X_test_scaled, Y_test, verbose=0)\n",
        "print(f\"Validation Accuracy: {val_accuracy:.4f}\")\n"
      ]
    },
    {
      "cell_type": "code",
      "source": [
        "model.save('resnet.h5')"
      ],
      "metadata": {
        "id": "oDt6hy6zO9Q6"
      },
      "execution_count": null,
      "outputs": []
    },
    {
      "cell_type": "code",
      "source": [
        "\n",
        "# Generate predictions for visualization\n",
        "Y_test_pred_prob = model.predict(X_test_scaled)\n",
        "Y_test_pred = np.argmax(Y_test_pred_prob, axis=1)\n",
        "\n",
        "# Convert labels for visualization\n",
        "Y_test_one_hot = tf.keras.utils.to_categorical(Y_test, num_classes=4)\n",
        "\n",
        "# Visualizations\n",
        "def plot_all_visualizations(Y_test, Y_test_one_hot, Y_test_pred, Y_test_pred_prob, history):\n",
        "    # ROC Curve\n",
        "    plt.figure(figsize=(10, 6))\n",
        "    for i in range(4):\n",
        "        y_true_binary = (np.argmax(Y_test_one_hot, axis=1) == i).astype(int)\n",
        "        y_score = Y_test_pred_prob[:, i]\n",
        "        fpr, tpr, _ = roc_curve(y_true_binary, y_score)\n",
        "        roc_auc = auc(fpr, tpr)\n",
        "        plt.plot(fpr, tpr, label=f'Class {i} (AUC = {roc_auc:.2f})')\n",
        "    plt.plot([0, 1], [0, 1], 'k--')\n",
        "    plt.title('ROC Curve')\n",
        "    plt.xlabel('False Positive Rate')\n",
        "    plt.ylabel('True Positive Rate')\n",
        "    plt.legend(loc='lower right')\n",
        "    plt.grid()\n",
        "    plt.show()\n",
        "\n",
        "    # Confusion Matrix\n",
        "    conf_matrix = confusion_matrix(Y_test, Y_test_pred)\n",
        "    plt.figure(figsize=(10, 8))\n",
        "    sns.heatmap(conf_matrix, annot=True, fmt='d', cmap='Blues')\n",
        "    plt.title('Confusion Matrix')\n",
        "    plt.xlabel('Predicted')\n",
        "    plt.ylabel('Actual')\n",
        "    plt.show()\n",
        "\n",
        "    # Precision-Recall Curve\n",
        "    plt.figure(figsize=(10, 6))\n",
        "    for i in range(4):\n",
        "        precision, recall, _ = precision_recall_curve(Y_test_one_hot[:, i], Y_test_pred_prob[:, i])\n",
        "        plt.plot(recall, precision, label=f'Class {i}')\n",
        "    plt.title('Precision-Recall Curve')\n",
        "    plt.xlabel('Recall')\n",
        "    plt.ylabel('Precision')\n",
        "    plt.legend()\n",
        "    plt.grid()\n",
        "    plt.show()\n",
        "\n",
        "    # Training Curves\n",
        "    plt.figure(figsize=(12, 4))\n",
        "    plt.subplot(1, 2, 1)\n",
        "    plt.plot(history.history['accuracy'], label='Training')\n",
        "    plt.plot(history.history['val_accuracy'], label='Validation')\n",
        "    plt.title('Model Accuracy')\n",
        "    plt.xlabel('Epoch')\n",
        "    plt.ylabel('Accuracy')\n",
        "    plt.legend()\n",
        "\n",
        "    plt.subplot(1, 2, 2)\n",
        "    plt.plot(history.history['loss'], label='Training')\n",
        "    plt.plot(history.history['val_loss'], label='Validation')\n",
        "    plt.title('Model Loss')\n",
        "    plt.xlabel('Epoch')\n",
        "    plt.ylabel('Loss')\n",
        "    plt.legend()\n",
        "    plt.tight_layout()\n",
        "    plt.show()\n",
        "\n",
        "# Generate all visualizations\n",
        "plot_all_visualizations(Y_test, Y_test_one_hot, Y_test_pred, Y_test_pred_prob, history)\n",
        "\n",
        "# Print final metrics\n",
        "print(\"\\nFinal Model Performance:\")\n",
        "print(f\"Test Accuracy: {accuracy_score(Y_test, Y_test_pred):.4f}\")\n",
        "print(f\"F1 Score: {f1_score(Y_test, Y_test_pred, average='weighted'):.4f}\")\n"
      ],
      "metadata": {
        "id": "f1D4VaIF2_K0"
      },
      "execution_count": null,
      "outputs": []
    },
    {
      "cell_type": "markdown",
      "source": [
        "#EfficientNetB0"
      ],
      "metadata": {
        "id": "0Lc2h-2mLVjj"
      }
    },
    {
      "cell_type": "code",
      "source": [
        "# import numpy as np\n",
        "# import matplotlib.pyplot as plt\n",
        "# import tensorflow as tf\n",
        "# from tensorflow.keras.applications import EfficientNetB0\n",
        "# from tensorflow.keras.models import Model\n",
        "# from tensorflow.keras.layers import Dense, Conv2D, MaxPooling2D, GlobalAveragePooling2D\n",
        "# from tensorflow.keras.optimizers import Adam\n",
        "# from sklearn.metrics import roc_curve, auc, precision_recall_curve, confusion_matrix, accuracy_score, f1_score\n",
        "# import seaborn as sns\n",
        "\n",
        "# # Initialize the EfficientNetB0 model with transfer learning\n",
        "# input_shape = (224, 224, 3)\n",
        "# base_model = EfficientNetB0(weights='imagenet', include_top=False, input_shape=input_shape)\n",
        "\n",
        "# # Add custom CNN layers\n",
        "# x = base_model.output\n",
        "# x = Conv2D(64, (3, 3), activation='relu', padding='same')(x)\n",
        "# x = MaxPooling2D((2, 2))(x)\n",
        "# x = Conv2D(128, (3, 3), activation='relu', padding='same')(x)\n",
        "# x = MaxPooling2D((2, 2))(x)\n",
        "# x = GlobalAveragePooling2D()(x)\n",
        "# x = Dense(256, activation='relu')(x)\n",
        "# output = Dense(4, activation='softmax')(x)\n",
        "\n",
        "# model = Model(inputs=base_model.input, outputs=output)\n",
        "\n",
        "# # Freeze base model layers\n",
        "# for layer in base_model.layers:\n",
        "#     layer.trainable = False\n",
        "\n",
        "# # Compile model\n",
        "# model.compile(optimizer=Adam(learning_rate=0.0005),\n",
        "#               loss='sparse_categorical_crossentropy',\n",
        "#               metrics=['accuracy'])\n",
        "\n",
        "# # Train model\n",
        "# history = model.fit(X_train_scaled, Y_train,\n",
        "#                     validation_split=0.2,\n",
        "#                     epochs=70, batch_size=32, verbose=1)\n",
        "\n",
        "# # Evaluate model\n",
        "# val_loss, val_accuracy = model.evaluate(X_test_scaled, Y_test, verbose=0)\n",
        "# print(f\"Validation Accuracy: {val_accuracy:.4f}\")\n"
      ],
      "metadata": {
        "id": "1WJyDwwLLYoZ"
      },
      "execution_count": null,
      "outputs": []
    },
    {
      "cell_type": "code",
      "source": [
        "\n",
        "# Generate predictions for visualization\n",
        "Y_test_pred_prob = model.predict(X_test_scaled)\n",
        "Y_test_pred = np.argmax(Y_test_pred_prob, axis=1)\n",
        "\n",
        "# Convert labels for visualization\n",
        "Y_test_one_hot = tf.keras.utils.to_categorical(Y_test, num_classes=4)\n",
        "\n",
        "# Visualizations\n",
        "def plot_all_visualizations(Y_test, Y_test_one_hot, Y_test_pred, Y_test_pred_prob, history):\n",
        "    # ROC Curve\n",
        "    plt.figure(figsize=(10, 6))\n",
        "    for i in range(4):\n",
        "        y_true_binary = (np.argmax(Y_test_one_hot, axis=1) == i).astype(int)\n",
        "        y_score = Y_test_pred_prob[:, i]\n",
        "        fpr, tpr, _ = roc_curve(y_true_binary, y_score)\n",
        "        roc_auc = auc(fpr, tpr)\n",
        "        plt.plot(fpr, tpr, label=f'Class {i} (AUC = {roc_auc:.2f})')\n",
        "    plt.plot([0, 1], [0, 1], 'k--')\n",
        "    plt.title('ROC Curve')\n",
        "    plt.xlabel('False Positive Rate')\n",
        "    plt.ylabel('True Positive Rate')\n",
        "    plt.legend(loc='lower right')\n",
        "    plt.grid()\n",
        "    plt.show()\n",
        "\n",
        "    # Confusion Matrix\n",
        "    conf_matrix = confusion_matrix(Y_test, Y_test_pred)\n",
        "    plt.figure(figsize=(10, 8))\n",
        "    sns.heatmap(conf_matrix, annot=True, fmt='d', cmap='Blues')\n",
        "    plt.title('Confusion Matrix')\n",
        "    plt.xlabel('Predicted')\n",
        "    plt.ylabel('Actual')\n",
        "    plt.show()\n",
        "\n",
        "    # Precision-Recall Curve\n",
        "    plt.figure(figsize=(10, 6))\n",
        "    for i in range(4):\n",
        "        precision, recall, _ = precision_recall_curve(Y_test_one_hot[:, i], Y_test_pred_prob[:, i])\n",
        "        plt.plot(recall, precision, label=f'Class {i}')\n",
        "    plt.title('Precision-Recall Curve')\n",
        "    plt.xlabel('Recall')\n",
        "    plt.ylabel('Precision')\n",
        "    plt.legend()\n",
        "    plt.grid()\n",
        "    plt.show()\n",
        "\n",
        "    # Training Curves\n",
        "    plt.figure(figsize=(12, 4))\n",
        "    plt.subplot(1, 2, 1)\n",
        "    plt.plot(history.history['accuracy'], label='Training')\n",
        "    plt.plot(history.history['val_accuracy'], label='Validation')\n",
        "    plt.title('Model Accuracy')\n",
        "    plt.xlabel('Epoch')\n",
        "    plt.ylabel('Accuracy')\n",
        "    plt.legend()\n",
        "\n",
        "    plt.subplot(1, 2, 2)\n",
        "    plt.plot(history.history['loss'], label='Training')\n",
        "    plt.plot(history.history['val_loss'], label='Validation')\n",
        "    plt.title('Model Loss')\n",
        "    plt.xlabel('Epoch')\n",
        "    plt.ylabel('Loss')\n",
        "    plt.legend()\n",
        "    plt.tight_layout()\n",
        "    plt.show()\n",
        "\n",
        "# Generate all visualizations\n",
        "plot_all_visualizations(Y_test, Y_test_one_hot, Y_test_pred, Y_test_pred_prob, history)\n",
        "\n",
        "# Print final metrics\n",
        "print(\"\\nFinal Model Performance:\")\n",
        "print(f\"Test Accuracy: {accuracy_score(Y_test, Y_test_pred):.4f}\")\n",
        "print(f\"F1 Score: {f1_score(Y_test, Y_test_pred, average='weighted'):.4f}\")\n"
      ],
      "metadata": {
        "id": "jnW5DiRM6rMm"
      },
      "execution_count": null,
      "outputs": []
    },
    {
      "cell_type": "markdown",
      "source": [
        "#InceptionV3"
      ],
      "metadata": {
        "id": "iAeVR_i5N7_c"
      }
    },
    {
      "cell_type": "code",
      "source": [
        "import numpy as np\n",
        "import matplotlib.pyplot as plt\n",
        "import tensorflow as tf\n",
        "from tensorflow.keras.applications import InceptionV3\n",
        "from tensorflow.keras.models import Model\n",
        "from tensorflow.keras.layers import Dense, Conv2D, MaxPooling2D, GlobalAveragePooling2D\n",
        "from tensorflow.keras.optimizers import Adam\n",
        "from sklearn.metrics import roc_curve, auc, precision_recall_curve, confusion_matrix, accuracy_score, f1_score\n",
        "import seaborn as sns\n",
        "\n",
        "# Initialize the InceptionV3 model with transfer learning\n",
        "input_shape = (224, 224, 3)\n",
        "base_model = InceptionV3(weights='imagenet', include_top=False, input_shape=input_shape)\n",
        "\n",
        "# Add custom CNN layers\n",
        "x = base_model.output\n",
        "x = Conv2D(64, (3, 3), activation='relu', padding='same')(x)\n",
        "x = MaxPooling2D((2, 2))(x)\n",
        "x = Conv2D(128, (3, 3), activation='relu', padding='same')(x)\n",
        "x = MaxPooling2D((2, 2))(x)\n",
        "x = GlobalAveragePooling2D()(x)\n",
        "x = Dense(256, activation='relu')(x)\n",
        "output = Dense(4, activation='softmax')(x)\n",
        "\n",
        "model = Model(inputs=base_model.input, outputs=output)\n",
        "\n",
        "# Freeze base model layers\n",
        "for layer in base_model.layers:\n",
        "    layer.trainable = False\n",
        "\n",
        "# Compile model\n",
        "model.compile(optimizer=Adam(learning_rate=0.0005),\n",
        "              loss='sparse_categorical_crossentropy',\n",
        "              metrics=['accuracy'])\n",
        "\n",
        "# Train model\n",
        "history = model.fit(X_train_scaled, Y_train,\n",
        "                    validation_split=0.2,\n",
        "                    epochs=70, batch_size=32, verbose=1)\n",
        "\n",
        "# Evaluate model\n",
        "val_loss, val_accuracy = model.evaluate(X_test_scaled, Y_test, verbose=0)\n",
        "print(f\"Validation Accuracy: {val_accuracy:.4f}\")\n"
      ],
      "metadata": {
        "id": "3w5VvADKN67d"
      },
      "execution_count": null,
      "outputs": []
    },
    {
      "cell_type": "code",
      "source": [
        "\n",
        "# Generate predictions for visualization\n",
        "Y_test_pred_prob = model.predict(X_test_scaled)\n",
        "Y_test_pred = np.argmax(Y_test_pred_prob, axis=1)\n",
        "\n",
        "# Convert labels for visualization\n",
        "Y_test_one_hot = tf.keras.utils.to_categorical(Y_test, num_classes=4)\n",
        "\n",
        "# Visualizations\n",
        "def plot_all_visualizations(Y_test, Y_test_one_hot, Y_test_pred, Y_test_pred_prob, history):\n",
        "    # ROC Curve\n",
        "    plt.figure(figsize=(10, 6))\n",
        "    for i in range(4):\n",
        "        y_true_binary = (np.argmax(Y_test_one_hot, axis=1) == i).astype(int)\n",
        "        y_score = Y_test_pred_prob[:, i]\n",
        "        fpr, tpr, _ = roc_curve(y_true_binary, y_score)\n",
        "        roc_auc = auc(fpr, tpr)\n",
        "        plt.plot(fpr, tpr, label=f'Class {i} (AUC = {roc_auc:.2f})')\n",
        "    plt.plot([0, 1], [0, 1], 'k--')\n",
        "    plt.title('ROC Curve')\n",
        "    plt.xlabel('False Positive Rate')\n",
        "    plt.ylabel('True Positive Rate')\n",
        "    plt.legend(loc='lower right')\n",
        "    plt.grid()\n",
        "    plt.show()\n",
        "\n",
        "    # Confusion Matrix\n",
        "    conf_matrix = confusion_matrix(Y_test, Y_test_pred)\n",
        "    plt.figure(figsize=(10, 8))\n",
        "    sns.heatmap(conf_matrix, annot=True, fmt='d', cmap='Blues')\n",
        "    plt.title('Confusion Matrix')\n",
        "    plt.xlabel('Predicted')\n",
        "    plt.ylabel('Actual')\n",
        "    plt.show()\n",
        "\n",
        "    # Precision-Recall Curve\n",
        "    plt.figure(figsize=(10, 6))\n",
        "    for i in range(4):\n",
        "        precision, recall, _ = precision_recall_curve(Y_test_one_hot[:, i], Y_test_pred_prob[:, i])\n",
        "        plt.plot(recall, precision, label=f'Class {i}')\n",
        "    plt.title('Precision-Recall Curve')\n",
        "    plt.xlabel('Recall')\n",
        "    plt.ylabel('Precision')\n",
        "    plt.legend()\n",
        "    plt.grid()\n",
        "    plt.show()\n",
        "\n",
        "    # Training Curves\n",
        "    plt.figure(figsize=(12, 4))\n",
        "    plt.subplot(1, 2, 1)\n",
        "    plt.plot(history.history['accuracy'], label='Training')\n",
        "    plt.plot(history.history['val_accuracy'], label='Validation')\n",
        "    plt.title('Model Accuracy')\n",
        "    plt.xlabel('Epoch')\n",
        "    plt.ylabel('Accuracy')\n",
        "    plt.legend()\n",
        "\n",
        "    plt.subplot(1, 2, 2)\n",
        "    plt.plot(history.history['loss'], label='Training')\n",
        "    plt.plot(history.history['val_loss'], label='Validation')\n",
        "    plt.title('Model Loss')\n",
        "    plt.xlabel('Epoch')\n",
        "    plt.ylabel('Loss')\n",
        "    plt.legend()\n",
        "    plt.tight_layout()\n",
        "    plt.show()\n",
        "\n",
        "# Generate all visualizations\n",
        "plot_all_visualizations(Y_test, Y_test_one_hot, Y_test_pred, Y_test_pred_prob, history)\n",
        "\n",
        "# Print final metrics\n",
        "print(\"\\nFinal Model Performance:\")\n",
        "print(f\"Test Accuracy: {accuracy_score(Y_test, Y_test_pred):.4f}\")\n",
        "print(f\"F1 Score: {f1_score(Y_test, Y_test_pred, average='weighted'):.4f}\")\n"
      ],
      "metadata": {
        "id": "BeVJAz4R6tsf"
      },
      "execution_count": null,
      "outputs": []
    },
    {
      "cell_type": "markdown",
      "source": [
        "#MobileNetV2"
      ],
      "metadata": {
        "id": "bOBzx7GS4Z92"
      }
    },
    {
      "cell_type": "code",
      "source": [
        "import numpy as np\n",
        "import matplotlib.pyplot as plt\n",
        "import tensorflow as tf\n",
        "from tensorflow.keras.applications import MobileNetV2\n",
        "from tensorflow.keras.models import Model\n",
        "from tensorflow.keras.layers import Dense, Conv2D, MaxPooling2D, GlobalAveragePooling2D\n",
        "from tensorflow.keras.optimizers import Adam\n",
        "from sklearn.metrics import roc_curve, auc, precision_recall_curve, confusion_matrix, accuracy_score, f1_score\n",
        "import seaborn as sns\n",
        "\n",
        "# Initialize the MobileNetV2 model with transfer learning\n",
        "input_shape = (224, 224, 3)\n",
        "base_model = MobileNetV2(weights='imagenet', include_top=False, input_shape=input_shape)\n",
        "\n",
        "# Add custom CNN layers\n",
        "x = base_model.output\n",
        "x = Conv2D(64, (3, 3), activation='relu', padding='same')(x)\n",
        "x = MaxPooling2D((2, 2))(x)\n",
        "x = Conv2D(128, (3, 3), activation='relu', padding='same')(x)\n",
        "x = MaxPooling2D((2, 2))(x)\n",
        "x = GlobalAveragePooling2D()(x)\n",
        "x = Dense(256, activation='relu')(x)\n",
        "output = Dense(4, activation='softmax')(x)\n",
        "\n",
        "model = Model(inputs=base_model.input, outputs=output)\n",
        "\n",
        "# Freeze base model layers\n",
        "for layer in base_model.layers:\n",
        "    layer.trainable = False\n",
        "\n",
        "# Compile model\n",
        "model.compile(optimizer=Adam(learning_rate=0.0005),\n",
        "              loss='sparse_categorical_crossentropy',\n",
        "              metrics=['accuracy'])\n",
        "\n",
        "# Train model\n",
        "history = model.fit(X_train_scaled, Y_train,\n",
        "                    validation_split=0.2,\n",
        "                    epochs=70, batch_size=32, verbose=1)\n",
        "\n",
        "# Evaluate model\n",
        "val_loss, val_accuracy = model.evaluate(X_test_scaled, Y_test, verbose=0)\n",
        "print(f\"Validation Accuracy: {val_accuracy:.4f}\")\n"
      ],
      "metadata": {
        "id": "sscPvxup4ZoF"
      },
      "execution_count": null,
      "outputs": []
    },
    {
      "cell_type": "code",
      "source": [
        "\n",
        "# Generate predictions for visualization\n",
        "Y_test_pred_prob = model.predict(X_test_scaled)\n",
        "Y_test_pred = np.argmax(Y_test_pred_prob, axis=1)\n",
        "\n",
        "# Convert labels for visualization\n",
        "Y_test_one_hot = tf.keras.utils.to_categorical(Y_test, num_classes=4)\n",
        "\n",
        "# Visualizations\n",
        "def plot_all_visualizations(Y_test, Y_test_one_hot, Y_test_pred, Y_test_pred_prob, history):\n",
        "    # ROC Curve\n",
        "    plt.figure(figsize=(10, 6))\n",
        "    for i in range(4):\n",
        "        y_true_binary = (np.argmax(Y_test_one_hot, axis=1) == i).astype(int)\n",
        "        y_score = Y_test_pred_prob[:, i]\n",
        "        fpr, tpr, _ = roc_curve(y_true_binary, y_score)\n",
        "        roc_auc = auc(fpr, tpr)\n",
        "        plt.plot(fpr, tpr, label=f'Class {i} (AUC = {roc_auc:.2f})')\n",
        "    plt.plot([0, 1], [0, 1], 'k--')\n",
        "    plt.title('ROC Curve')\n",
        "    plt.xlabel('False Positive Rate')\n",
        "    plt.ylabel('True Positive Rate')\n",
        "    plt.legend(loc='lower right')\n",
        "    plt.grid()\n",
        "    plt.show()\n",
        "\n",
        "    # Confusion Matrix\n",
        "    conf_matrix = confusion_matrix(Y_test, Y_test_pred)\n",
        "    plt.figure(figsize=(10, 8))\n",
        "    sns.heatmap(conf_matrix, annot=True, fmt='d', cmap='Blues')\n",
        "    plt.title('Confusion Matrix')\n",
        "    plt.xlabel('Predicted')\n",
        "    plt.ylabel('Actual')\n",
        "    plt.show()\n",
        "\n",
        "    # Precision-Recall Curve\n",
        "    plt.figure(figsize=(10, 6))\n",
        "    for i in range(4):\n",
        "        precision, recall, _ = precision_recall_curve(Y_test_one_hot[:, i], Y_test_pred_prob[:, i])\n",
        "        plt.plot(recall, precision, label=f'Class {i}')\n",
        "    plt.title('Precision-Recall Curve')\n",
        "    plt.xlabel('Recall')\n",
        "    plt.ylabel('Precision')\n",
        "    plt.legend()\n",
        "    plt.grid()\n",
        "    plt.show()\n",
        "\n",
        "    # Training Curves\n",
        "    plt.figure(figsize=(12, 4))\n",
        "    plt.subplot(1, 2, 1)\n",
        "    plt.plot(history.history['accuracy'], label='Training')\n",
        "    plt.plot(history.history['val_accuracy'], label='Validation')\n",
        "    plt.title('Model Accuracy')\n",
        "    plt.xlabel('Epoch')\n",
        "    plt.ylabel('Accuracy')\n",
        "    plt.legend()\n",
        "\n",
        "    plt.subplot(1, 2, 2)\n",
        "    plt.plot(history.history['loss'], label='Training')\n",
        "    plt.plot(history.history['val_loss'], label='Validation')\n",
        "    plt.title('Model Loss')\n",
        "    plt.xlabel('Epoch')\n",
        "    plt.ylabel('Loss')\n",
        "    plt.legend()\n",
        "    plt.tight_layout()\n",
        "    plt.show()\n",
        "\n",
        "# Generate all visualizations\n",
        "plot_all_visualizations(Y_test, Y_test_one_hot, Y_test_pred, Y_test_pred_prob, history)\n",
        "\n",
        "# Print final metrics\n",
        "print(\"\\nFinal Model Performance:\")\n",
        "print(f\"Test Accuracy: {accuracy_score(Y_test, Y_test_pred):.4f}\")\n",
        "print(f\"F1 Score: {f1_score(Y_test, Y_test_pred, average='weighted'):.4f}\")\n"
      ],
      "metadata": {
        "id": "5Fwnegy_6u0A"
      },
      "execution_count": null,
      "outputs": []
    },
    {
      "cell_type": "markdown",
      "source": [
        "#VGG-19"
      ],
      "metadata": {
        "id": "GiJS2Cy04guP"
      }
    },
    {
      "cell_type": "code",
      "source": [
        "import numpy as np\n",
        "import matplotlib.pyplot as plt\n",
        "import tensorflow as tf\n",
        "from tensorflow.keras.applications import VGG16\n",
        "from tensorflow.keras.models import Model\n",
        "from tensorflow.keras.layers import Dense, Conv2D, MaxPooling2D, GlobalAveragePooling2D\n",
        "from tensorflow.keras.optimizers import Adam\n",
        "from sklearn.metrics import roc_curve, auc, precision_recall_curve, confusion_matrix, accuracy_score, f1_score\n",
        "import seaborn as sns\n",
        "\n",
        "# Initialize the VGG16 model with transfer learning\n",
        "input_shape = (224, 224, 3)\n",
        "base_model = VGG19(weights='imagenet', include_top=False, input_shape=input_shape)\n",
        "\n",
        "# Add custom CNN layers\n",
        "x = base_model.output\n",
        "x = Conv2D(64, (3, 3), activation='relu', padding='same')(x)\n",
        "x = MaxPooling2D((2, 2))(x)\n",
        "x = Conv2D(128, (3, 3), activation='relu', padding='same')(x)\n",
        "x = MaxPooling2D((2, 2))(x)\n",
        "x = GlobalAveragePooling2D()(x)\n",
        "x = Dense(256, activation='relu')(x)\n",
        "output = Dense(4, activation='softmax')(x)\n",
        "\n",
        "model = Model(inputs=base_model.input, outputs=output)\n",
        "\n",
        "# Freeze base model layers\n",
        "for layer in base_model.layers:\n",
        "    layer.trainable = False\n",
        "\n",
        "# Compile model\n",
        "model.compile(optimizer=Adam(learning_rate=0.0005),\n",
        "              loss='sparse_categorical_crossentropy',\n",
        "              metrics=['accuracy'])\n",
        "\n",
        "# Train model\n",
        "history = model.fit(X_train_scaled, Y_train,\n",
        "                    validation_split=0.2,\n",
        "                    epochs=70, batch_size=32, verbose=1)\n",
        "\n",
        "# Evaluate model\n",
        "val_loss, val_accuracy = model.evaluate(X_test_scaled, Y_test, verbose=0)\n",
        "print(f\"Validation Accuracy: {val_accuracy:.4f}\")\n"
      ],
      "metadata": {
        "id": "Yrsxn9Tk4gX3"
      },
      "execution_count": null,
      "outputs": []
    },
    {
      "cell_type": "code",
      "source": [
        "\n",
        "# Generate predictions for visualization\n",
        "Y_test_pred_prob = model.predict(X_test_scaled)\n",
        "Y_test_pred = np.argmax(Y_test_pred_prob, axis=1)\n",
        "\n",
        "# Convert labels for visualization\n",
        "Y_test_one_hot = tf.keras.utils.to_categorical(Y_test, num_classes=4)\n",
        "\n",
        "# Visualizations\n",
        "def plot_all_visualizations(Y_test, Y_test_one_hot, Y_test_pred, Y_test_pred_prob, history):\n",
        "    # ROC Curve\n",
        "    plt.figure(figsize=(10, 6))\n",
        "    for i in range(4):\n",
        "        y_true_binary = (np.argmax(Y_test_one_hot, axis=1) == i).astype(int)\n",
        "        y_score = Y_test_pred_prob[:, i]\n",
        "        fpr, tpr, _ = roc_curve(y_true_binary, y_score)\n",
        "        roc_auc = auc(fpr, tpr)\n",
        "        plt.plot(fpr, tpr, label=f'Class {i} (AUC = {roc_auc:.2f})')\n",
        "    plt.plot([0, 1], [0, 1], 'k--')\n",
        "    plt.title('ROC Curve')\n",
        "    plt.xlabel('False Positive Rate')\n",
        "    plt.ylabel('True Positive Rate')\n",
        "    plt.legend(loc='lower right')\n",
        "    plt.grid()\n",
        "    plt.show()\n",
        "\n",
        "    # Confusion Matrix\n",
        "    conf_matrix = confusion_matrix(Y_test, Y_test_pred)\n",
        "    plt.figure(figsize=(10, 8))\n",
        "    sns.heatmap(conf_matrix, annot=True, fmt='d', cmap='Blues')\n",
        "    plt.title('Confusion Matrix')\n",
        "    plt.xlabel('Predicted')\n",
        "    plt.ylabel('Actual')\n",
        "    plt.show()\n",
        "\n",
        "    # Precision-Recall Curve\n",
        "    plt.figure(figsize=(10, 6))\n",
        "    for i in range(4):\n",
        "        precision, recall, _ = precision_recall_curve(Y_test_one_hot[:, i], Y_test_pred_prob[:, i])\n",
        "        plt.plot(recall, precision, label=f'Class {i}')\n",
        "    plt.title('Precision-Recall Curve')\n",
        "    plt.xlabel('Recall')\n",
        "    plt.ylabel('Precision')\n",
        "    plt.legend()\n",
        "    plt.grid()\n",
        "    plt.show()\n",
        "\n",
        "    # Training Curves\n",
        "    plt.figure(figsize=(12, 4))\n",
        "    plt.subplot(1, 2, 1)\n",
        "    plt.plot(history.history['accuracy'], label='Training')\n",
        "    plt.plot(history.history['val_accuracy'], label='Validation')\n",
        "    plt.title('Model Accuracy')\n",
        "    plt.xlabel('Epoch')\n",
        "    plt.ylabel('Accuracy')\n",
        "    plt.legend()\n",
        "\n",
        "    plt.subplot(1, 2, 2)\n",
        "    plt.plot(history.history['loss'], label='Training')\n",
        "    plt.plot(history.history['val_loss'], label='Validation')\n",
        "    plt.title('Model Loss')\n",
        "    plt.xlabel('Epoch')\n",
        "    plt.ylabel('Loss')\n",
        "    plt.legend()\n",
        "    plt.tight_layout()\n",
        "    plt.show()\n",
        "\n",
        "# Generate all visualizations\n",
        "plot_all_visualizations(Y_test, Y_test_one_hot, Y_test_pred, Y_test_pred_prob, history)\n",
        "\n",
        "# Print final metrics\n",
        "print(\"\\nFinal Model Performance:\")\n",
        "print(f\"Test Accuracy: {accuracy_score(Y_test, Y_test_pred):.4f}\")\n",
        "print(f\"F1 Score: {f1_score(Y_test, Y_test_pred, average='weighted'):.4f}\")\n"
      ],
      "metadata": {
        "id": "4PlTopkkLbSH"
      },
      "execution_count": null,
      "outputs": []
    },
    {
      "cell_type": "code",
      "execution_count": null,
      "metadata": {
        "id": "unaPvkKLy8YD"
      },
      "outputs": [],
      "source": [
        "# model.save('efficientnetb0.h5')"
      ]
    },
    {
      "cell_type": "markdown",
      "metadata": {
        "id": "58ledYtVy8YD"
      },
      "source": [
        "#End"
      ]
    }
  ],
  "metadata": {
    "kernelspec": {
      "display_name": "Python 3",
      "name": "python3"
    },
    "language_info": {
      "name": "python",
      "version": "3.12.3"
    },
    "colab": {
      "provenance": [],
      "gpuType": "T4",
      "include_colab_link": true
    },
    "accelerator": "GPU"
  },
  "nbformat": 4,
  "nbformat_minor": 0
}